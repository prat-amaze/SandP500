{
  "nbformat": 4,
  "nbformat_minor": 0,
  "metadata": {
    "colab": {
      "provenance": [],
      "include_colab_link": true
    },
    "kernelspec": {
      "name": "python3",
      "display_name": "Python 3"
    },
    "language_info": {
      "name": "python"
    }
  },
  "cells": [
    {
      "cell_type": "markdown",
      "metadata": {
        "id": "view-in-github",
        "colab_type": "text"
      },
      "source": [
        "<a href=\"https://colab.research.google.com/github/prat-amaze/SandP500/blob/main/S%26P_500.ipynb\" target=\"_parent\"><img src=\"https://colab.research.google.com/assets/colab-badge.svg\" alt=\"Open In Colab\"/></a>"
      ]
    },
    {
      "cell_type": "code",
      "execution_count": null,
      "metadata": {
        "id": "CsT-B_txdVoq"
      },
      "outputs": [],
      "source": [
        "import yfinance as yf"
      ]
    },
    {
      "cell_type": "code",
      "source": [
        "sp500= yf.Ticker(\"^GSPC\")"
      ],
      "metadata": {
        "id": "x8AgABHrTmzQ"
      },
      "execution_count": null,
      "outputs": []
    },
    {
      "cell_type": "code",
      "source": [
        "sp500= sp500.history(period= \"max\")"
      ],
      "metadata": {
        "id": "M2PRJyQF0fhR"
      },
      "execution_count": null,
      "outputs": []
    },
    {
      "cell_type": "code",
      "source": [
        "sp500.index"
      ],
      "metadata": {
        "colab": {
          "base_uri": "https://localhost:8080/"
        },
        "id": "A3SQnb5xSPV2",
        "outputId": "266317cd-970b-409f-acf2-dc16273ae2ba"
      },
      "execution_count": null,
      "outputs": [
        {
          "output_type": "execute_result",
          "data": {
            "text/plain": [
              "DatetimeIndex(['1927-12-30 00:00:00-05:00', '1928-01-03 00:00:00-05:00',\n",
              "               '1928-01-04 00:00:00-05:00', '1928-01-05 00:00:00-05:00',\n",
              "               '1928-01-06 00:00:00-05:00', '1928-01-09 00:00:00-05:00',\n",
              "               '1928-01-10 00:00:00-05:00', '1928-01-11 00:00:00-05:00',\n",
              "               '1928-01-12 00:00:00-05:00', '1928-01-13 00:00:00-05:00',\n",
              "               ...\n",
              "               '2023-03-15 00:00:00-04:00', '2023-03-16 00:00:00-04:00',\n",
              "               '2023-03-17 00:00:00-04:00', '2023-03-20 00:00:00-04:00',\n",
              "               '2023-03-21 00:00:00-04:00', '2023-03-22 00:00:00-04:00',\n",
              "               '2023-03-23 00:00:00-04:00', '2023-03-24 00:00:00-04:00',\n",
              "               '2023-03-27 00:00:00-04:00', '2023-03-28 00:00:00-04:00'],\n",
              "              dtype='datetime64[ns, America/New_York]', name='Date', length=23924, freq=None)"
            ]
          },
          "metadata": {},
          "execution_count": 5
        }
      ]
    },
    {
      "cell_type": "code",
      "source": [
        "sp500.plot.line(y=\"Close\", use_index=True)"
      ],
      "metadata": {
        "colab": {
          "base_uri": "https://localhost:8080/",
          "height": 290
        },
        "id": "zJiuO8GPSoIH",
        "outputId": "a63a4316-1d1b-4546-fc1a-d5ad4b2cf450"
      },
      "execution_count": null,
      "outputs": [
        {
          "output_type": "execute_result",
          "data": {
            "text/plain": [
              "<Axes: xlabel='Date'>"
            ]
          },
          "metadata": {},
          "execution_count": 6
        },
        {
          "output_type": "display_data",
          "data": {
            "text/plain": [
              "<Figure size 432x288 with 1 Axes>"
            ],
            "image/png": "[encoded data removed]"
          },
          "metadata": {
            "needs_background": "light"
          }
        }
      ]
    },
    {
      "cell_type": "code",
      "source": [
        "del sp500[\"Dividends\"]\n",
        "del sp500[\"Stock Splits\"]"
      ],
      "metadata": {
        "id": "yILjTgl9Tm-v"
      },
      "execution_count": null,
      "outputs": []
    },
    {
      "cell_type": "code",
      "source": [
        "sp500['Tomorrow']= sp500['Close'].shift(-1)"
      ],
      "metadata": {
        "id": "jBZwwMgUXGL3"
      },
      "execution_count": null,
      "outputs": []
    },
    {
      "cell_type": "code",
      "source": [
        "sp500[\"Target\"]= (sp500[\"Tomorrow\"] > sp500[\"Close\"]).astype(int)"
      ],
      "metadata": {
        "id": "97K3dcmtT4mr"
      },
      "execution_count": null,
      "outputs": []
    },
    {
      "cell_type": "code",
      "source": [
        "sp500"
      ],
      "metadata": {
        "colab": {
          "base_uri": "https://localhost:8080/",
          "height": 846
        },
        "id": "zscxyLSHX6e3",
        "outputId": "eaf00aea-48bd-44fb-d722-76be5092cdce"
      },
      "execution_count": null,
      "outputs": [
        {
          "output_type": "execute_result",
          "data": {
            "text/plain": [
              "                                  Open         High          Low        Close  \\\n",
              "Date                                                                            \n",
              "1927-12-30 00:00:00-05:00    17.660000    17.660000    17.660000    17.660000   \n",
              "1928-01-03 00:00:00-05:00    17.760000    17.760000    17.760000    17.760000   \n",
              "1928-01-04 00:00:00-05:00    17.719999    17.719999    17.719999    17.719999   \n",
              "1928-01-05 00:00:00-05:00    17.549999    17.549999    17.549999    17.549999   \n",
              "1928-01-06 00:00:00-05:00    17.660000    17.660000    17.660000    17.660000   \n",
              "...                                ...          ...          ...          ...   \n",
              "2023-03-22 00:00:00-04:00  4002.040039  4039.489990  3936.169922  3936.969971   \n",
              "2023-03-23 00:00:00-04:00  3959.209961  4007.659912  3919.050049  3948.719971   \n",
              "2023-03-24 00:00:00-04:00  3939.209961  3972.739990  3909.159912  3970.989990   \n",
              "2023-03-27 00:00:00-04:00  3982.929932  4003.830078  3970.489990  3977.530029   \n",
              "2023-03-28 00:00:00-04:00  3974.129883  3979.199951  3951.530029  3971.270020   \n",
              "\n",
              "                               Volume     Tomorrow  Target  \n",
              "Date                                                        \n",
              "1927-12-30 00:00:00-05:00           0    17.760000       1  \n",
              "1928-01-03 00:00:00-05:00           0    17.719999       0  \n",
              "1928-01-04 00:00:00-05:00           0    17.549999       0  \n",
              "1928-01-05 00:00:00-05:00           0    17.660000       1  \n",
              "1928-01-06 00:00:00-05:00           0    17.500000       0  \n",
              "...                               ...          ...     ...  \n",
              "2023-03-22 00:00:00-04:00  4533010000  3948.719971       1  \n",
              "2023-03-23 00:00:00-04:00  4991600000  3970.989990       1  \n",
              "2023-03-24 00:00:00-04:00  4583970000  3977.530029       1  \n",
              "2023-03-27 00:00:00-04:00  4233540000  3971.270020       0  \n",
              "2023-03-28 00:00:00-04:00  4014600000          NaN       0  \n",
              "\n",
              "[23924 rows x 7 columns]"
            ],
            "text/html": [
              "\n",
              "  <div id=\"df-612415ce-b927-4933-9653-8d14551a827c\">\n",
              "    <div class=\"colab-df-container\">\n",
              "      <div>\n",
              "<style scoped>\n",
              "    .dataframe tbody tr th:only-of-type {\n",
              "        vertical-align: middle;\n",
              "    }\n",
              "\n",
              "    .dataframe tbody tr th {\n",
              "        vertical-align: top;\n",
              "    }\n",
              "\n",
              "    .dataframe thead th {\n",
              "        text-align: right;\n",
              "    }\n",
              "</style>\n",
              "<table border=\"1\" class=\"dataframe\">\n",
              "  <thead>\n",
              "    <tr style=\"text-align: right;\">\n",
              "      <th></th>\n",
              "      <th>Open</th>\n",
              "      <th>High</th>\n",
              "      <th>Low</th>\n",
              "      <th>Close</th>\n",
              "      <th>Volume</th>\n",
              "      <th>Tomorrow</th>\n",
              "      <th>Target</th>\n",
              "    </tr>\n",
              "    <tr>\n",
              "      <th>Date</th>\n",
              "      <th></th>\n",
              "      <th></th>\n",
              "      <th></th>\n",
              "      <th></th>\n",
              "      <th></th>\n",
              "      <th></th>\n",
              "      <th></th>\n",
              "    </tr>\n",
              "  </thead>\n",
              "  <tbody>\n",
              "    <tr>\n",
              "      <th>1927-12-30 00:00:00-05:00</th>\n",
              "      <td>17.660000</td>\n",
              "      <td>17.660000</td>\n",
              "      <td>17.660000</td>\n",
              "      <td>17.660000</td>\n",
              "      <td>0</td>\n",
              "      <td>17.760000</td>\n",
              "      <td>1</td>\n",
              "    </tr>\n",
              "    <tr>\n",
              "      <th>1928-01-03 00:00:00-05:00</th>\n",
              "      <td>17.760000</td>\n",
              "      <td>17.760000</td>\n",
              "      <td>17.760000</td>\n",
              "      <td>17.760000</td>\n",
              "      <td>0</td>\n",
              "      <td>17.719999</td>\n",
              "      <td>0</td>\n",
              "    </tr>\n",
              "    <tr>\n",
              "      <th>1928-01-04 00:00:00-05:00</th>\n",
              "      <td>17.719999</td>\n",
              "      <td>17.719999</td>\n",
              "      <td>17.719999</td>\n",
              "      <td>17.719999</td>\n",
              "      <td>0</td>\n",
              "      <td>17.549999</td>\n",
              "      <td>0</td>\n",
              "    </tr>\n",
              "    <tr>\n",
              "      <th>1928-01-05 00:00:00-05:00</th>\n",
              "      <td>17.549999</td>\n",
              "      <td>17.549999</td>\n",
              "      <td>17.549999</td>\n",
              "      <td>17.549999</td>\n",
              "      <td>0</td>\n",
              "      <td>17.660000</td>\n",
              "      <td>1</td>\n",
              "    </tr>\n",
              "    <tr>\n",
              "      <th>1928-01-06 00:00:00-05:00</th>\n",
              "      <td>17.660000</td>\n",
              "      <td>17.660000</td>\n",
              "      <td>17.660000</td>\n",
              "      <td>17.660000</td>\n",
              "      <td>0</td>\n",
              "      <td>17.500000</td>\n",
              "      <td>0</td>\n",
              "    </tr>\n",
              "    <tr>\n",
              "      <th>...</th>\n",
              "      <td>...</td>\n",
              "      <td>...</td>\n",
              "      <td>...</td>\n",
              "      <td>...</td>\n",
              "      <td>...</td>\n",
              "      <td>...</td>\n",
              "      <td>...</td>\n",
              "    </tr>\n",
              "    <tr>\n",
              "      <th>2023-03-22 00:00:00-04:00</th>\n",
              "      <td>4002.040039</td>\n",
              "      <td>4039.489990</td>\n",
              "      <td>3936.169922</td>\n",
              "      <td>3936.969971</td>\n",
              "      <td>4533010000</td>\n",
              "      <td>3948.719971</td>\n",
              "      <td>1</td>\n",
              "    </tr>\n",
              "    <tr>\n",
              "      <th>2023-03-23 00:00:00-04:00</th>\n",
              "      <td>3959.209961</td>\n",
              "      <td>4007.659912</td>\n",
              "      <td>3919.050049</td>\n",
              "      <td>3948.719971</td>\n",
              "      <td>4991600000</td>\n",
              "      <td>3970.989990</td>\n",
              "      <td>1</td>\n",
              "    </tr>\n",
              "    <tr>\n",
              "      <th>2023-03-24 00:00:00-04:00</th>\n",
              "      <td>3939.209961</td>\n",
              "      <td>3972.739990</td>\n",
              "      <td>3909.159912</td>\n",
              "      <td>3970.989990</td>\n",
              "      <td>4583970000</td>\n",
              "      <td>3977.530029</td>\n",
              "      <td>1</td>\n",
              "    </tr>\n",
              "    <tr>\n",
              "      <th>2023-03-27 00:00:00-04:00</th>\n",
              "      <td>3982.929932</td>\n",
              "      <td>4003.830078</td>\n",
              "      <td>3970.489990</td>\n",
              "      <td>3977.530029</td>\n",
              "      <td>4233540000</td>\n",
              "      <td>3971.270020</td>\n",
              "      <td>0</td>\n",
              "    </tr>\n",
              "    <tr>\n",
              "      <th>2023-03-28 00:00:00-04:00</th>\n",
              "      <td>3974.129883</td>\n",
              "      <td>3979.199951</td>\n",
              "      <td>3951.530029</td>\n",
              "      <td>3971.270020</td>\n",
              "      <td>4014600000</td>\n",
              "      <td>NaN</td>\n",
              "      <td>0</td>\n",
              "    </tr>\n",
              "  </tbody>\n",
              "</table>\n",
              "<p>23924 rows × 7 columns</p>\n",
              "</div>\n",
              "      <button class=\"colab-df-convert\" onclick=\"convertToInteractive('df-612415ce-b927-4933-9653-8d14551a827c')\"\n",
              "              title=\"Convert this dataframe to an interactive table.\"\n",
              "              style=\"display:none;\">\n",
              "        \n",
              "  <svg xmlns=\"http://www.w3.org/2000/svg\" height=\"24px\"viewBox=\"0 0 24 24\"\n",
              "       width=\"24px\">\n",
              "    <path d=\"M0 0h24v24H0V0z\" fill=\"none\"/>\n",
              "    <path d=\"M18.56 5.44l.94 2.06.94-2.06 2.06-.94-2.06-.94-.94-2.06-.94 2.06-2.06.94zm-11 1L8.5 8.5l.94-2.06 2.06-.94-2.06-.94L8.5 2.5l-.94 2.06-2.06.94zm10 10l.94 2.06.94-2.06 2.06-.94-2.06-.94-.94-2.06-.94 2.06-2.06.94z\"/><path d=\"M17.41 7.96l-1.37-1.37c-.4-.4-.92-.59-1.43-.59-.52 0-1.04.2-1.43.59L10.3 9.45l-7.72 7.72c-.78.78-.78 2.05 0 2.83L4 21.41c.39.39.9.59 1.41.59.51 0 1.02-.2 1.41-.59l7.78-7.78 2.81-2.81c.8-.78.8-2.07 0-2.86zM5.41 20L4 18.59l7.72-7.72 1.47 1.35L5.41 20z\"/>\n",
              "  </svg>\n",
              "      </button>\n",
              "      \n",
              "  <style>\n",
              "    .colab-df-container {\n",
              "      display:flex;\n",
              "      flex-wrap:wrap;\n",
              "      gap: 12px;\n",
              "    }\n",
              "\n",
              "    .colab-df-convert {\n",
              "      background-color: #E8F0FE;\n",
              "      border: none;\n",
              "      border-radius: 50%;\n",
              "      cursor: pointer;\n",
              "      display: none;\n",
              "      fill: #1967D2;\n",
              "      height: 32px;\n",
              "      padding: 0 0 0 0;\n",
              "      width: 32px;\n",
              "    }\n",
              "\n",
              "    .colab-df-convert:hover {\n",
              "      background-color: #E2EBFA;\n",
              "      box-shadow: 0px 1px 2px rgba(60, 64, 67, 0.3), 0px 1px 3px 1px rgba(60, 64, 67, 0.15);\n",
              "      fill: #174EA6;\n",
              "    }\n",
              "\n",
              "    [theme=dark] .colab-df-convert {\n",
              "      background-color: #3B4455;\n",
              "      fill: #D2E3FC;\n",
              "    }\n",
              "\n",
              "    [theme=dark] .colab-df-convert:hover {\n",
              "      background-color: #434B5C;\n",
              "      box-shadow: 0px 1px 3px 1px rgba(0, 0, 0, 0.15);\n",
              "      filter: drop-shadow(0px 1px 2px rgba(0, 0, 0, 0.3));\n",
              "      fill: #FFFFFF;\n",
              "    }\n",
              "  </style>\n",
              "\n",
              "      <script>\n",
              "        const buttonEl =\n",
              "          document.querySelector('#df-612415ce-b927-4933-9653-8d14551a827c button.colab-df-convert');\n",
              "        buttonEl.style.display =\n",
              "          google.colab.kernel.accessAllowed ? 'block' : 'none';\n",
              "\n",
              "        async function convertToInteractive(key) {\n",
              "          const element = document.querySelector('#df-612415ce-b927-4933-9653-8d14551a827c');\n",
              "          const dataTable =\n",
              "            await google.colab.kernel.invokeFunction('convertToInteractive',\n",
              "                                                     [key], {});\n",
              "          if (!dataTable) return;\n",
              "\n",
              "          const docLinkHtml = 'Like what you see? Visit the ' +\n",
              "            '<a target=\"_blank\" href=https://colab.research.google.com/notebooks/data_table.ipynb>data table notebook</a>'\n",
              "            + ' to learn more about interactive tables.';\n",
              "          element.innerHTML = '';\n",
              "          dataTable['output_type'] = 'display_data';\n",
              "          await google.colab.output.renderOutput(dataTable, element);\n",
              "          const docLink = document.createElement('div');\n",
              "          docLink.innerHTML = docLinkHtml;\n",
              "          element.appendChild(docLink);\n",
              "        }\n",
              "      </script>\n",
              "    </div>\n",
              "  </div>\n",
              "  "
            ]
          },
          "metadata": {},
          "execution_count": 10
        }
      ]
    },
    {
      "cell_type": "code",
      "source": [
        "sp500= sp500.loc[\"1990-01-01\":].copy()"
      ],
      "metadata": {
        "id": "KnNxks9oX9ao"
      },
      "execution_count": null,
      "outputs": []
    },
    {
      "cell_type": "code",
      "source": [
        "sp500"
      ],
      "metadata": {
        "colab": {
          "base_uri": "https://localhost:8080/",
          "height": 846
        },
        "id": "tAHhdBP3YPDq",
        "outputId": "ab05eab4-dcf8-44e5-e885-67be679bc11c"
      },
      "execution_count": null,
      "outputs": [
        {
          "output_type": "execute_result",
          "data": {
            "text/plain": [
              "                                  Open         High          Low        Close  \\\n",
              "Date                                                                            \n",
              "1990-01-02 00:00:00-05:00   353.399994   359.690002   351.980011   359.690002   \n",
              "1990-01-03 00:00:00-05:00   359.690002   360.589996   357.890015   358.760010   \n",
              "1990-01-04 00:00:00-05:00   358.760010   358.760010   352.890015   355.670013   \n",
              "1990-01-05 00:00:00-05:00   355.670013   355.670013   351.350006   352.200012   \n",
              "1990-01-08 00:00:00-05:00   352.200012   354.239990   350.540009   353.790009   \n",
              "...                                ...          ...          ...          ...   \n",
              "2023-03-22 00:00:00-04:00  4002.040039  4039.489990  3936.169922  3936.969971   \n",
              "2023-03-23 00:00:00-04:00  3959.209961  4007.659912  3919.050049  3948.719971   \n",
              "2023-03-24 00:00:00-04:00  3939.209961  3972.739990  3909.159912  3970.989990   \n",
              "2023-03-27 00:00:00-04:00  3982.929932  4003.830078  3970.489990  3977.530029   \n",
              "2023-03-28 00:00:00-04:00  3974.129883  3979.199951  3951.530029  3971.270020   \n",
              "\n",
              "                               Volume     Tomorrow  Target  \n",
              "Date                                                        \n",
              "1990-01-02 00:00:00-05:00   162070000   358.760010       0  \n",
              "1990-01-03 00:00:00-05:00   192330000   355.670013       0  \n",
              "1990-01-04 00:00:00-05:00   177000000   352.200012       0  \n",
              "1990-01-05 00:00:00-05:00   158530000   353.790009       1  \n",
              "1990-01-08 00:00:00-05:00   140110000   349.619995       0  \n",
              "...                               ...          ...     ...  \n",
              "2023-03-22 00:00:00-04:00  4533010000  3948.719971       1  \n",
              "2023-03-23 00:00:00-04:00  4991600000  3970.989990       1  \n",
              "2023-03-24 00:00:00-04:00  4583970000  3977.530029       1  \n",
              "2023-03-27 00:00:00-04:00  4233540000  3971.270020       0  \n",
              "2023-03-28 00:00:00-04:00  1986603000          NaN       0  \n",
              "\n",
              "[8374 rows x 7 columns]"
            ],
            "text/html": [
              "\n",
              "  <div id=\"df-3f25aa7f-f72a-426a-bd77-16f61fc4261f\">\n",
              "    <div class=\"colab-df-container\">\n",
              "      <div>\n",
              "<style scoped>\n",
              "    .dataframe tbody tr th:only-of-type {\n",
              "        vertical-align: middle;\n",
              "    }\n",
              "\n",
              "    .dataframe tbody tr th {\n",
              "        vertical-align: top;\n",
              "    }\n",
              "\n",
              "    .dataframe thead th {\n",
              "        text-align: right;\n",
              "    }\n",
              "</style>\n",
              "<table border=\"1\" class=\"dataframe\">\n",
              "  <thead>\n",
              "    <tr style=\"text-align: right;\">\n",
              "      <th></th>\n",
              "      <th>Open</th>\n",
              "      <th>High</th>\n",
              "      <th>Low</th>\n",
              "      <th>Close</th>\n",
              "      <th>Volume</th>\n",
              "      <th>Tomorrow</th>\n",
              "      <th>Target</th>\n",
              "    </tr>\n",
              "    <tr>\n",
              "      <th>Date</th>\n",
              "      <th></th>\n",
              "      <th></th>\n",
              "      <th></th>\n",
              "      <th></th>\n",
              "      <th></th>\n",
              "      <th></th>\n",
              "      <th></th>\n",
              "    </tr>\n",
              "  </thead>\n",
              "  <tbody>\n",
              "    <tr>\n",
              "      <th>1990-01-02 00:00:00-05:00</th>\n",
              "      <td>353.399994</td>\n",
              "      <td>359.690002</td>\n",
              "      <td>351.980011</td>\n",
              "      <td>359.690002</td>\n",
              "      <td>162070000</td>\n",
              "      <td>358.760010</td>\n",
              "      <td>0</td>\n",
              "    </tr>\n",
              "    <tr>\n",
              "      <th>1990-01-03 00:00:00-05:00</th>\n",
              "      <td>359.690002</td>\n",
              "      <td>360.589996</td>\n",
              "      <td>357.890015</td>\n",
              "      <td>358.760010</td>\n",
              "      <td>192330000</td>\n",
              "      <td>355.670013</td>\n",
              "      <td>0</td>\n",
              "    </tr>\n",
              "    <tr>\n",
              "      <th>1990-01-04 00:00:00-05:00</th>\n",
              "      <td>358.760010</td>\n",
              "      <td>358.760010</td>\n",
              "      <td>352.890015</td>\n",
              "      <td>355.670013</td>\n",
              "      <td>177000000</td>\n",
              "      <td>352.200012</td>\n",
              "      <td>0</td>\n",
              "    </tr>\n",
              "    <tr>\n",
              "      <th>1990-01-05 00:00:00-05:00</th>\n",
              "      <td>355.670013</td>\n",
              "      <td>355.670013</td>\n",
              "      <td>351.350006</td>\n",
              "      <td>352.200012</td>\n",
              "      <td>158530000</td>\n",
              "      <td>353.790009</td>\n",
              "      <td>1</td>\n",
              "    </tr>\n",
              "    <tr>\n",
              "      <th>1990-01-08 00:00:00-05:00</th>\n",
              "      <td>352.200012</td>\n",
              "      <td>354.239990</td>\n",
              "      <td>350.540009</td>\n",
              "      <td>353.790009</td>\n",
              "      <td>140110000</td>\n",
              "      <td>349.619995</td>\n",
              "      <td>0</td>\n",
              "    </tr>\n",
              "    <tr>\n",
              "      <th>...</th>\n",
              "      <td>...</td>\n",
              "      <td>...</td>\n",
              "      <td>...</td>\n",
              "      <td>...</td>\n",
              "      <td>...</td>\n",
              "      <td>...</td>\n",
              "      <td>...</td>\n",
              "    </tr>\n",
              "    <tr>\n",
              "      <th>2023-03-22 00:00:00-04:00</th>\n",
              "      <td>4002.040039</td>\n",
              "      <td>4039.489990</td>\n",
              "      <td>3936.169922</td>\n",
              "      <td>3936.969971</td>\n",
              "      <td>4533010000</td>\n",
              "      <td>3948.719971</td>\n",
              "      <td>1</td>\n",
              "    </tr>\n",
              "    <tr>\n",
              "      <th>2023-03-23 00:00:00-04:00</th>\n",
              "      <td>3959.209961</td>\n",
              "      <td>4007.659912</td>\n",
              "      <td>3919.050049</td>\n",
              "      <td>3948.719971</td>\n",
              "      <td>4991600000</td>\n",
              "      <td>3970.989990</td>\n",
              "      <td>1</td>\n",
              "    </tr>\n",
              "    <tr>\n",
              "      <th>2023-03-24 00:00:00-04:00</th>\n",
              "      <td>3939.209961</td>\n",
              "      <td>3972.739990</td>\n",
              "      <td>3909.159912</td>\n",
              "      <td>3970.989990</td>\n",
              "      <td>4583970000</td>\n",
              "      <td>3977.530029</td>\n",
              "      <td>1</td>\n",
              "    </tr>\n",
              "    <tr>\n",
              "      <th>2023-03-27 00:00:00-04:00</th>\n",
              "      <td>3982.929932</td>\n",
              "      <td>4003.830078</td>\n",
              "      <td>3970.489990</td>\n",
              "      <td>3977.530029</td>\n",
              "      <td>4233540000</td>\n",
              "      <td>3971.270020</td>\n",
              "      <td>0</td>\n",
              "    </tr>\n",
              "    <tr>\n",
              "      <th>2023-03-28 00:00:00-04:00</th>\n",
              "      <td>3974.129883</td>\n",
              "      <td>3979.199951</td>\n",
              "      <td>3951.530029</td>\n",
              "      <td>3971.270020</td>\n",
              "      <td>1986603000</td>\n",
              "      <td>NaN</td>\n",
              "      <td>0</td>\n",
              "    </tr>\n",
              "  </tbody>\n",
              "</table>\n",
              "<p>8374 rows × 7 columns</p>\n",
              "</div>\n",
              "      <button class=\"colab-df-convert\" onclick=\"convertToInteractive('df-3f25aa7f-f72a-426a-bd77-16f61fc4261f')\"\n",
              "              title=\"Convert this dataframe to an interactive table.\"\n",
              "              style=\"display:none;\">\n",
              "        \n",
              "  <svg xmlns=\"http://www.w3.org/2000/svg\" height=\"24px\"viewBox=\"0 0 24 24\"\n",
              "       width=\"24px\">\n",
              "    <path d=\"M0 0h24v24H0V0z\" fill=\"none\"/>\n",
              "    <path d=\"M18.56 5.44l.94 2.06.94-2.06 2.06-.94-2.06-.94-.94-2.06-.94 2.06-2.06.94zm-11 1L8.5 8.5l.94-2.06 2.06-.94-2.06-.94L8.5 2.5l-.94 2.06-2.06.94zm10 10l.94 2.06.94-2.06 2.06-.94-2.06-.94-.94-2.06-.94 2.06-2.06.94z\"/><path d=\"M17.41 7.96l-1.37-1.37c-.4-.4-.92-.59-1.43-.59-.52 0-1.04.2-1.43.59L10.3 9.45l-7.72 7.72c-.78.78-.78 2.05 0 2.83L4 21.41c.39.39.9.59 1.41.59.51 0 1.02-.2 1.41-.59l7.78-7.78 2.81-2.81c.8-.78.8-2.07 0-2.86zM5.41 20L4 18.59l7.72-7.72 1.47 1.35L5.41 20z\"/>\n",
              "  </svg>\n",
              "      </button>\n",
              "      \n",
              "  <style>\n",
              "    .colab-df-container {\n",
              "      display:flex;\n",
              "      flex-wrap:wrap;\n",
              "      gap: 12px;\n",
              "    }\n",
              "\n",
              "    .colab-df-convert {\n",
              "      background-color: #E8F0FE;\n",
              "      border: none;\n",
              "      border-radius: 50%;\n",
              "      cursor: pointer;\n",
              "      display: none;\n",
              "      fill: #1967D2;\n",
              "      height: 32px;\n",
              "      padding: 0 0 0 0;\n",
              "      width: 32px;\n",
              "    }\n",
              "\n",
              "    .colab-df-convert:hover {\n",
              "      background-color: #E2EBFA;\n",
              "      box-shadow: 0px 1px 2px rgba(60, 64, 67, 0.3), 0px 1px 3px 1px rgba(60, 64, 67, 0.15);\n",
              "      fill: #174EA6;\n",
              "    }\n",
              "\n",
              "    [theme=dark] .colab-df-convert {\n",
              "      background-color: #3B4455;\n",
              "      fill: #D2E3FC;\n",
              "    }\n",
              "\n",
              "    [theme=dark] .colab-df-convert:hover {\n",
              "      background-color: #434B5C;\n",
              "      box-shadow: 0px 1px 3px 1px rgba(0, 0, 0, 0.15);\n",
              "      filter: drop-shadow(0px 1px 2px rgba(0, 0, 0, 0.3));\n",
              "      fill: #FFFFFF;\n",
              "    }\n",
              "  </style>\n",
              "\n",
              "      <script>\n",
              "        const buttonEl =\n",
              "          document.querySelector('#df-3f25aa7f-f72a-426a-bd77-16f61fc4261f button.colab-df-convert');\n",
              "        buttonEl.style.display =\n",
              "          google.colab.kernel.accessAllowed ? 'block' : 'none';\n",
              "\n",
              "        async function convertToInteractive(key) {\n",
              "          const element = document.querySelector('#df-3f25aa7f-f72a-426a-bd77-16f61fc4261f');\n",
              "          const dataTable =\n",
              "            await google.colab.kernel.invokeFunction('convertToInteractive',\n",
              "                                                     [key], {});\n",
              "          if (!dataTable) return;\n",
              "\n",
              "          const docLinkHtml = 'Like what you see? Visit the ' +\n",
              "            '<a target=\"_blank\" href=https://colab.research.google.com/notebooks/data_table.ipynb>data table notebook</a>'\n",
              "            + ' to learn more about interactive tables.';\n",
              "          element.innerHTML = '';\n",
              "          dataTable['output_type'] = 'display_data';\n",
              "          await google.colab.output.renderOutput(dataTable, element);\n",
              "          const docLink = document.createElement('div');\n",
              "          docLink.innerHTML = docLinkHtml;\n",
              "          element.appendChild(docLink);\n",
              "        }\n",
              "      </script>\n",
              "    </div>\n",
              "  </div>\n",
              "  "
            ]
          },
          "metadata": {},
          "execution_count": 13
        }
      ]
    },
    {
      "cell_type": "code",
      "source": [
        "from sklearn.ensemble import RandomForestClassifier\n",
        "\n",
        "model= RandomForestClassifier(n_estimators= 100, min_samples_split=100, random_state= 1)\n",
        "\n",
        "train = sp500.iloc[:-100]\n",
        "test= sp500.iloc[-100:]\n",
        "\n",
        "predictors= ['Close','Volume','Open','High','Low']\n",
        "\n",
        "model.fit(train[predictors], train['Target'])"
      ],
      "metadata": {
        "colab": {
          "base_uri": "https://localhost:8080/",
          "height": 74
        },
        "id": "SqcNTKdVYUZI",
        "outputId": "cc4bfeb0-69c4-4bf0-e091-d22ba2d38e12"
      },
      "execution_count": null,
      "outputs": [
        {
          "output_type": "execute_result",
          "data": {
            "text/plain": [
              "RandomForestClassifier(min_samples_split=100, random_state=1)"
            ],
            "text/html": [
              "<style>#sk-container-id-1 {color: black;background-color: white;}#sk-container-id-1 pre{padding: 0;}#sk-container-id-1 div.sk-toggleable {background-color: white;}#sk-container-id-1 label.sk-toggleable__label {cursor: pointer;display: block;width: 100%;margin-bottom: 0;padding: 0.3em;box-sizing: border-box;text-align: center;}#sk-container-id-1 label.sk-toggleable__label-arrow:before {content: \"▸\";float: left;margin-right: 0.25em;color: #696969;}#sk-container-id-1 label.sk-toggleable__label-arrow:hover:before {color: black;}#sk-container-id-1 div.sk-estimator:hover label.sk-toggleable__label-arrow:before {color: black;}#sk-container-id-1 div.sk-toggleable__content {max-height: 0;max-width: 0;overflow: hidden;text-align: left;background-color: #f0f8ff;}#sk-container-id-1 div.sk-toggleable__content pre {margin: 0.2em;color: black;border-radius: 0.25em;background-color: #f0f8ff;}#sk-container-id-1 input.sk-toggleable__control:checked~div.sk-toggleable__content {max-height: 200px;max-width: 100%;overflow: auto;}#sk-container-id-1 input.sk-toggleable__control:checked~label.sk-toggleable__label-arrow:before {content: \"▾\";}#sk-container-id-1 div.sk-estimator input.sk-toggleable__control:checked~label.sk-toggleable__label {background-color: #d4ebff;}#sk-container-id-1 div.sk-label input.sk-toggleable__control:checked~label.sk-toggleable__label {background-color: #d4ebff;}#sk-container-id-1 input.sk-hidden--visually {border: 0;clip: rect(1px 1px 1px 1px);clip: rect(1px, 1px, 1px, 1px);height: 1px;margin: -1px;overflow: hidden;padding: 0;position: absolute;width: 1px;}#sk-container-id-1 div.sk-estimator {font-family: monospace;background-color: #f0f8ff;border: 1px dotted black;border-radius: 0.25em;box-sizing: border-box;margin-bottom: 0.5em;}#sk-container-id-1 div.sk-estimator:hover {background-color: #d4ebff;}#sk-container-id-1 div.sk-parallel-item::after {content: \"\";width: 100%;border-bottom: 1px solid gray;flex-grow: 1;}#sk-container-id-1 div.sk-label:hover label.sk-toggleable__label {background-color: #d4ebff;}#sk-container-id-1 div.sk-serial::before {content: \"\";position: absolute;border-left: 1px solid gray;box-sizing: border-box;top: 0;bottom: 0;left: 50%;z-index: 0;}#sk-container-id-1 div.sk-serial {display: flex;flex-direction: column;align-items: center;background-color: white;padding-right: 0.2em;padding-left: 0.2em;position: relative;}#sk-container-id-1 div.sk-item {position: relative;z-index: 1;}#sk-container-id-1 div.sk-parallel {display: flex;align-items: stretch;justify-content: center;background-color: white;position: relative;}#sk-container-id-1 div.sk-item::before, #sk-container-id-1 div.sk-parallel-item::before {content: \"\";position: absolute;border-left: 1px solid gray;box-sizing: border-box;top: 0;bottom: 0;left: 50%;z-index: -1;}#sk-container-id-1 div.sk-parallel-item {display: flex;flex-direction: column;z-index: 1;position: relative;background-color: white;}#sk-container-id-1 div.sk-parallel-item:first-child::after {align-self: flex-end;width: 50%;}#sk-container-id-1 div.sk-parallel-item:last-child::after {align-self: flex-start;width: 50%;}#sk-container-id-1 div.sk-parallel-item:only-child::after {width: 0;}#sk-container-id-1 div.sk-dashed-wrapped {border: 1px dashed gray;margin: 0 0.4em 0.5em 0.4em;box-sizing: border-box;padding-bottom: 0.4em;background-color: white;}#sk-container-id-1 div.sk-label label {font-family: monospace;font-weight: bold;display: inline-block;line-height: 1.2em;}#sk-container-id-1 div.sk-label-container {text-align: center;}#sk-container-id-1 div.sk-container {/* jupyter's `normalize.less` sets `[hidden] { display: none; }` but bootstrap.min.css set `[hidden] { display: none !important; }` so we also need the `!important` here to be able to override the default hidden behavior on the sphinx rendered scikit-learn.org. See: https://github.com/scikit-learn/scikit-learn/issues/21755 */display: inline-block !important;position: relative;}#sk-container-id-1 div.sk-text-repr-fallback {display: none;}</style><div id=\"sk-container-id-1\" class=\"sk-top-container\"><div class=\"sk-text-repr-fallback\"><pre>RandomForestClassifier(min_samples_split=100, random_state=1)</pre><b>In a Jupyter environment, please rerun this cell to show the HTML representation or trust the notebook. <br />On GitHub, the HTML representation is unable to render, please try loading this page with nbviewer.org.</b></div><div class=\"sk-container\" hidden><div class=\"sk-item\"><div class=\"sk-estimator sk-toggleable\"><input class=\"sk-toggleable__control sk-hidden--visually\" id=\"sk-estimator-id-1\" type=\"checkbox\" checked><label for=\"sk-estimator-id-1\" class=\"sk-toggleable__label sk-toggleable__label-arrow\">RandomForestClassifier</label><div class=\"sk-toggleable__content\"><pre>RandomForestClassifier(min_samples_split=100, random_state=1)</pre></div></div></div></div></div>"
            ]
          },
          "metadata": {},
          "execution_count": 12
        }
      ]
    },
    {
      "cell_type": "code",
      "source": [
        "from sklearn.metrics import precision_score\n",
        "\n",
        "preds= model.predict(test[predictors])"
      ],
      "metadata": {
        "id": "uYvZ0344cLKr"
      },
      "execution_count": null,
      "outputs": []
    },
    {
      "cell_type": "code",
      "source": [
        "import pandas as pd\n",
        "preds= pd.Series(preds, index= test.index)"
      ],
      "metadata": {
        "id": "Y3Z_QxgCdrnZ"
      },
      "execution_count": null,
      "outputs": []
    },
    {
      "cell_type": "code",
      "source": [
        "preds"
      ],
      "metadata": {
        "colab": {
          "base_uri": "https://localhost:8080/"
        },
        "id": "Ss-KRB9NdsJg",
        "outputId": "830b0ef7-7b9b-4bc3-a949-3f11133aa65e"
      },
      "execution_count": null,
      "outputs": [
        {
          "output_type": "execute_result",
          "data": {
            "text/plain": [
              "Date\n",
              "2022-11-02 00:00:00-04:00    1\n",
              "2022-11-03 00:00:00-04:00    1\n",
              "2022-11-04 00:00:00-04:00    1\n",
              "2022-11-07 00:00:00-05:00    0\n",
              "2022-11-08 00:00:00-05:00    1\n",
              "                            ..\n",
              "2023-03-22 00:00:00-04:00    1\n",
              "2023-03-23 00:00:00-04:00    1\n",
              "2023-03-24 00:00:00-04:00    0\n",
              "2023-03-27 00:00:00-04:00    1\n",
              "2023-03-28 00:00:00-04:00    1\n",
              "Length: 100, dtype: int64"
            ]
          },
          "metadata": {},
          "execution_count": 15
        }
      ]
    },
    {
      "cell_type": "code",
      "source": [
        "precision_score(test[\"Target\"], preds)"
      ],
      "metadata": {
        "colab": {
          "base_uri": "https://localhost:8080/"
        },
        "id": "207jj5Zxd-x1",
        "outputId": "0635c449-10b4-456c-d7d6-195dc9f570ae"
      },
      "execution_count": null,
      "outputs": [
        {
          "output_type": "execute_result",
          "data": {
            "text/plain": [
              "0.4"
            ]
          },
          "metadata": {},
          "execution_count": 16
        }
      ]
    },
    {
      "cell_type": "code",
      "source": [
        "def predict(train, test,predictors,model):\n",
        "  model.fit(train[predictors], train[\"Target\"])\n",
        "  preds= model.predict(test[predictors])\n",
        "  preds= pd.Series(preds, index= test.index, name=\"Predictions\")\n",
        "  combined= pd.concat([test[\"Target\"], preds], axis=1)\n",
        "  return combined"
      ],
      "metadata": {
        "id": "6lIJ2e89eMiI"
      },
      "execution_count": null,
      "outputs": []
    },
    {
      "cell_type": "code",
      "source": [
        "#train for 10yrs and predict for 11th year then\n",
        "#train for 11yr and predict for 12th yr and append it in predictions\n",
        "def backtest(data,model,predictors, start=2500, step=250):\n",
        "  all_predictions= []\n",
        "\n",
        "  for i in range(start, data.shape[0], step):\n",
        "    train= data.iloc[0:i].copy()\n",
        "    test= data.iloc[i:(i+step)].copy()\n",
        "    predictions= predict(train,test, predictors,model)\n",
        "    all_predictions.append(predictions)\n",
        "  return pd.concat(all_predictions)"
      ],
      "metadata": {
        "id": "ilHcc83FXSVl"
      },
      "execution_count": null,
      "outputs": []
    },
    {
      "cell_type": "code",
      "source": [
        "predictions= backtest(sp500,model,predictors)"
      ],
      "metadata": {
        "id": "mon6wb4c-3ih"
      },
      "execution_count": null,
      "outputs": []
    },
    {
      "cell_type": "code",
      "source": [
        "predictions[\"Predictions\"].value_counts()"
      ],
      "metadata": {
        "colab": {
          "base_uri": "https://localhost:8080/"
        },
        "id": "6NQJdeC9Aeez",
        "outputId": "b75ba463-c043-4aef-91db-7a3391b20d96"
      },
      "execution_count": null,
      "outputs": [
        {
          "output_type": "execute_result",
          "data": {
            "text/plain": [
              "0    3407\n",
              "1    2467\n",
              "Name: Predictions, dtype: int64"
            ]
          },
          "metadata": {},
          "execution_count": 34
        }
      ]
    },
    {
      "cell_type": "code",
      "source": [
        "precision_score(predictions[\"Target\"], predictions[\"Predictions\"])"
      ],
      "metadata": {
        "colab": {
          "base_uri": "https://localhost:8080/"
        },
        "id": "vQamBlE5A5j6",
        "outputId": "ad8138b0-045e-4639-cc12-ab5a129f099e"
      },
      "execution_count": null,
      "outputs": [
        {
          "output_type": "execute_result",
          "data": {
            "text/plain": [
              "0.5273611674098095"
            ]
          },
          "metadata": {},
          "execution_count": 35
        }
      ]
    },
    {
      "cell_type": "code",
      "source": [
        "# % of times market actually went up\n",
        "predictions[\"Target\"].value_counts()/predictions.shape[0]"
      ],
      "metadata": {
        "colab": {
          "base_uri": "https://localhost:8080/"
        },
        "id": "1JOIVvWDBv2Q",
        "outputId": "b49e48e9-c065-4a42-cf2e-dec202bfeea3"
      },
      "execution_count": null,
      "outputs": [
        {
          "output_type": "execute_result",
          "data": {
            "text/plain": [
              "1    0.533708\n",
              "0    0.466292\n",
              "Name: Target, dtype: float64"
            ]
          },
          "metadata": {},
          "execution_count": 36
        }
      ]
    },
    {
      "cell_type": "code",
      "source": [
        "horizons= [2,5,60,250,1000]\n",
        "new_predictors=[]\n",
        "\n",
        "for i in horizons:\n",
        "  rolling_averages= sp500.rolling(i).mean()\n",
        "\n",
        "  ratio_column= f\"Close_Ratio_{i}\"\n",
        "  sp500[ratio_column]= sp500[\"Close\"]/rolling_averages[\"Close\"]\n",
        "\n",
        "  trend_column= f\"Trend_{i}\"\n",
        "  sp500[trend_column]= sp500.shift(1).rolling(i).sum()[\"Target\"]\n",
        "\n",
        "  new_predictors += [ratio_column, trend_column]"
      ],
      "metadata": {
        "id": "oTYO0BL7CSUj"
      },
      "execution_count": null,
      "outputs": []
    },
    {
      "cell_type": "code",
      "source": [
        "sp500= sp500.dropna()"
      ],
      "metadata": {
        "id": "TRFNb-M-Lm88"
      },
      "execution_count": null,
      "outputs": []
    },
    {
      "cell_type": "code",
      "source": [
        "sp500"
      ],
      "metadata": {
        "colab": {
          "base_uri": "https://localhost:8080/",
          "height": 1000
        },
        "id": "ypVKIoNALMMR",
        "outputId": "170c9918-52f8-47a8-fedd-13d8404b3d44"
      },
      "execution_count": null,
      "outputs": [
        {
          "output_type": "execute_result",
          "data": {
            "text/plain": [
              "                                  Open         High          Low        Close  \\\n",
              "Date                                                                            \n",
              "1993-12-14 00:00:00-05:00   465.730011   466.119995   462.459991   463.059998   \n",
              "1993-12-15 00:00:00-05:00   463.059998   463.690002   461.839996   461.839996   \n",
              "1993-12-16 00:00:00-05:00   461.859985   463.980011   461.859985   463.339996   \n",
              "1993-12-17 00:00:00-05:00   463.339996   466.380005   463.339996   466.380005   \n",
              "1993-12-20 00:00:00-05:00   466.380005   466.899994   465.529999   465.850006   \n",
              "...                                ...          ...          ...          ...   \n",
              "2023-03-21 00:00:00-04:00  3975.889893  4009.080078  3971.189941  4002.870117   \n",
              "2023-03-22 00:00:00-04:00  4002.040039  4039.489990  3936.169922  3936.969971   \n",
              "2023-03-23 00:00:00-04:00  3959.209961  4007.659912  3919.050049  3948.719971   \n",
              "2023-03-24 00:00:00-04:00  3939.209961  3972.739990  3909.159912  3970.989990   \n",
              "2023-03-27 00:00:00-04:00  3982.929932  4003.830078  3970.489990  3977.530029   \n",
              "\n",
              "                               Volume     Tomorrow  Target  Close_Ratio_2  \\\n",
              "Date                                                                        \n",
              "1993-12-14 00:00:00-05:00   275050000   461.839996       0       0.997157   \n",
              "1993-12-15 00:00:00-05:00   331770000   463.339996       1       0.998681   \n",
              "1993-12-16 00:00:00-05:00   284620000   466.380005       1       1.001621   \n",
              "1993-12-17 00:00:00-05:00   363750000   465.850006       0       1.003270   \n",
              "1993-12-20 00:00:00-05:00   255900000   465.299988       0       0.999431   \n",
              "...                               ...          ...     ...            ...   \n",
              "2023-03-21 00:00:00-04:00  4920240000  3936.969971       0       1.006449   \n",
              "2023-03-22 00:00:00-04:00  4533010000  3948.719971       1       0.991700   \n",
              "2023-03-23 00:00:00-04:00  4991600000  3970.989990       1       1.001490   \n",
              "2023-03-24 00:00:00-04:00  4583970000  3977.530029       1       1.002812   \n",
              "2023-03-27 00:00:00-04:00  4233540000  3971.270020       0       1.000823   \n",
              "\n",
              "                           Trend_2  Close_Ratio_5  Trend_5  Close_Ratio_60  \\\n",
              "Date                                                                         \n",
              "1993-12-14 00:00:00-05:00      1.0       0.996617      1.0        1.000283   \n",
              "1993-12-15 00:00:00-05:00      0.0       0.995899      1.0        0.997329   \n",
              "1993-12-16 00:00:00-05:00      1.0       0.999495      2.0        1.000311   \n",
              "1993-12-17 00:00:00-05:00      2.0       1.004991      3.0        1.006561   \n",
              "1993-12-20 00:00:00-05:00      1.0       1.003784      2.0        1.005120   \n",
              "...                            ...            ...      ...             ...   \n",
              "2023-03-21 00:00:00-04:00      2.0       1.014757      3.0        1.004993   \n",
              "2023-03-22 00:00:00-04:00      1.0       0.995777      3.0        0.987974   \n",
              "2023-03-23 00:00:00-04:00      1.0       0.999333      3.0        0.990492   \n",
              "2023-03-24 00:00:00-04:00      2.0       1.002212      4.0        0.995488   \n",
              "2023-03-27 00:00:00-04:00      2.0       1.002549      4.0        0.996319   \n",
              "\n",
              "                           Trend_60  Close_Ratio_250  Trend_250  \\\n",
              "Date                                                              \n",
              "1993-12-14 00:00:00-05:00      32.0         1.028047      127.0   \n",
              "1993-12-15 00:00:00-05:00      32.0         1.025151      126.0   \n",
              "1993-12-16 00:00:00-05:00      32.0         1.028274      127.0   \n",
              "1993-12-17 00:00:00-05:00      32.0         1.034781      128.0   \n",
              "1993-12-20 00:00:00-05:00      32.0         1.033359      128.0   \n",
              "...                             ...              ...        ...   \n",
              "2023-03-21 00:00:00-04:00      29.0         1.000879      112.0   \n",
              "2023-03-22 00:00:00-04:00      29.0         0.984913      112.0   \n",
              "2023-03-23 00:00:00-04:00      29.0         0.988418      112.0   \n",
              "2023-03-24 00:00:00-04:00      30.0         0.994562      112.0   \n",
              "2023-03-27 00:00:00-04:00      31.0         0.996797      112.0   \n",
              "\n",
              "                           Close_Ratio_1000  Trend_1000  \n",
              "Date                                                     \n",
              "1993-12-14 00:00:00-05:00          1.176082       512.0  \n",
              "1993-12-15 00:00:00-05:00          1.172676       512.0  \n",
              "1993-12-16 00:00:00-05:00          1.176163       513.0  \n",
              "1993-12-17 00:00:00-05:00          1.183537       514.0  \n",
              "1993-12-20 00:00:00-05:00          1.181856       513.0  \n",
              "...                                     ...         ...  \n",
              "2023-03-21 00:00:00-04:00          1.081545       535.0  \n",
              "2023-03-22 00:00:00-04:00          1.063432       534.0  \n",
              "2023-03-23 00:00:00-04:00          1.066296       534.0  \n",
              "2023-03-24 00:00:00-04:00          1.071994       534.0  \n",
              "2023-03-27 00:00:00-04:00          1.073445       534.0  \n",
              "\n",
              "[7373 rows x 17 columns]"
            ],
            "text/html": [
              "\n",
              "  <div id=\"df-ae2200c4-b72c-480c-8196-4485261e2b97\">\n",
              "    <div class=\"colab-df-container\">\n",
              "      <div>\n",
              "<style scoped>\n",
              "    .dataframe tbody tr th:only-of-type {\n",
              "        vertical-align: middle;\n",
              "    }\n",
              "\n",
              "    .dataframe tbody tr th {\n",
              "        vertical-align: top;\n",
              "    }\n",
              "\n",
              "    .dataframe thead th {\n",
              "        text-align: right;\n",
              "    }\n",
              "</style>\n",
              "<table border=\"1\" class=\"dataframe\">\n",
              "  <thead>\n",
              "    <tr style=\"text-align: right;\">\n",
              "      <th></th>\n",
              "      <th>Open</th>\n",
              "      <th>High</th>\n",
              "      <th>Low</th>\n",
              "      <th>Close</th>\n",
              "      <th>Volume</th>\n",
              "      <th>Tomorrow</th>\n",
              "      <th>Target</th>\n",
              "      <th>Close_Ratio_2</th>\n",
              "      <th>Trend_2</th>\n",
              "      <th>Close_Ratio_5</th>\n",
              "      <th>Trend_5</th>\n",
              "      <th>Close_Ratio_60</th>\n",
              "      <th>Trend_60</th>\n",
              "      <th>Close_Ratio_250</th>\n",
              "      <th>Trend_250</th>\n",
              "      <th>Close_Ratio_1000</th>\n",
              "      <th>Trend_1000</th>\n",
              "    </tr>\n",
              "    <tr>\n",
              "      <th>Date</th>\n",
              "      <th></th>\n",
              "      <th></th>\n",
              "      <th></th>\n",
              "      <th></th>\n",
              "      <th></th>\n",
              "      <th></th>\n",
              "      <th></th>\n",
              "      <th></th>\n",
              "      <th></th>\n",
              "      <th></th>\n",
              "      <th></th>\n",
              "      <th></th>\n",
              "      <th></th>\n",
              "      <th></th>\n",
              "      <th></th>\n",
              "      <th></th>\n",
              "      <th></th>\n",
              "    </tr>\n",
              "  </thead>\n",
              "  <tbody>\n",
              "    <tr>\n",
              "      <th>1993-12-14 00:00:00-05:00</th>\n",
              "      <td>465.730011</td>\n",
              "      <td>466.119995</td>\n",
              "      <td>462.459991</td>\n",
              "      <td>463.059998</td>\n",
              "      <td>275050000</td>\n",
              "      <td>461.839996</td>\n",
              "      <td>0</td>\n",
              "      <td>0.997157</td>\n",
              "      <td>1.0</td>\n",
              "      <td>0.996617</td>\n",
              "      <td>1.0</td>\n",
              "      <td>1.000283</td>\n",
              "      <td>32.0</td>\n",
              "      <td>1.028047</td>\n",
              "      <td>127.0</td>\n",
              "      <td>1.176082</td>\n",
              "      <td>512.0</td>\n",
              "    </tr>\n",
              "    <tr>\n",
              "      <th>1993-12-15 00:00:00-05:00</th>\n",
              "      <td>463.059998</td>\n",
              "      <td>463.690002</td>\n",
              "      <td>461.839996</td>\n",
              "      <td>461.839996</td>\n",
              "      <td>331770000</td>\n",
              "      <td>463.339996</td>\n",
              "      <td>1</td>\n",
              "      <td>0.998681</td>\n",
              "      <td>0.0</td>\n",
              "      <td>0.995899</td>\n",
              "      <td>1.0</td>\n",
              "      <td>0.997329</td>\n",
              "      <td>32.0</td>\n",
              "      <td>1.025151</td>\n",
              "      <td>126.0</td>\n",
              "      <td>1.172676</td>\n",
              "      <td>512.0</td>\n",
              "    </tr>\n",
              "    <tr>\n",
              "      <th>1993-12-16 00:00:00-05:00</th>\n",
              "      <td>461.859985</td>\n",
              "      <td>463.980011</td>\n",
              "      <td>461.859985</td>\n",
              "      <td>463.339996</td>\n",
              "      <td>284620000</td>\n",
              "      <td>466.380005</td>\n",
              "      <td>1</td>\n",
              "      <td>1.001621</td>\n",
              "      <td>1.0</td>\n",
              "      <td>0.999495</td>\n",
              "      <td>2.0</td>\n",
              "      <td>1.000311</td>\n",
              "      <td>32.0</td>\n",
              "      <td>1.028274</td>\n",
              "      <td>127.0</td>\n",
              "      <td>1.176163</td>\n",
              "      <td>513.0</td>\n",
              "    </tr>\n",
              "    <tr>\n",
              "      <th>1993-12-17 00:00:00-05:00</th>\n",
              "      <td>463.339996</td>\n",
              "      <td>466.380005</td>\n",
              "      <td>463.339996</td>\n",
              "      <td>466.380005</td>\n",
              "      <td>363750000</td>\n",
              "      <td>465.850006</td>\n",
              "      <td>0</td>\n",
              "      <td>1.003270</td>\n",
              "      <td>2.0</td>\n",
              "      <td>1.004991</td>\n",
              "      <td>3.0</td>\n",
              "      <td>1.006561</td>\n",
              "      <td>32.0</td>\n",
              "      <td>1.034781</td>\n",
              "      <td>128.0</td>\n",
              "      <td>1.183537</td>\n",
              "      <td>514.0</td>\n",
              "    </tr>\n",
              "    <tr>\n",
              "      <th>1993-12-20 00:00:00-05:00</th>\n",
              "      <td>466.380005</td>\n",
              "      <td>466.899994</td>\n",
              "      <td>465.529999</td>\n",
              "      <td>465.850006</td>\n",
              "      <td>255900000</td>\n",
              "      <td>465.299988</td>\n",
              "      <td>0</td>\n",
              "      <td>0.999431</td>\n",
              "      <td>1.0</td>\n",
              "      <td>1.003784</td>\n",
              "      <td>2.0</td>\n",
              "      <td>1.005120</td>\n",
              "      <td>32.0</td>\n",
              "      <td>1.033359</td>\n",
              "      <td>128.0</td>\n",
              "      <td>1.181856</td>\n",
              "      <td>513.0</td>\n",
              "    </tr>\n",
              "    <tr>\n",
              "      <th>...</th>\n",
              "      <td>...</td>\n",
              "      <td>...</td>\n",
              "      <td>...</td>\n",
              "      <td>...</td>\n",
              "      <td>...</td>\n",
              "      <td>...</td>\n",
              "      <td>...</td>\n",
              "      <td>...</td>\n",
              "      <td>...</td>\n",
              "      <td>...</td>\n",
              "      <td>...</td>\n",
              "      <td>...</td>\n",
              "      <td>...</td>\n",
              "      <td>...</td>\n",
              "      <td>...</td>\n",
              "      <td>...</td>\n",
              "      <td>...</td>\n",
              "    </tr>\n",
              "    <tr>\n",
              "      <th>2023-03-21 00:00:00-04:00</th>\n",
              "      <td>3975.889893</td>\n",
              "      <td>4009.080078</td>\n",
              "      <td>3971.189941</td>\n",
              "      <td>4002.870117</td>\n",
              "      <td>4920240000</td>\n",
              "      <td>3936.969971</td>\n",
              "      <td>0</td>\n",
              "      <td>1.006449</td>\n",
              "      <td>2.0</td>\n",
              "      <td>1.014757</td>\n",
              "      <td>3.0</td>\n",
              "      <td>1.004993</td>\n",
              "      <td>29.0</td>\n",
              "      <td>1.000879</td>\n",
              "      <td>112.0</td>\n",
              "      <td>1.081545</td>\n",
              "      <td>535.0</td>\n",
              "    </tr>\n",
              "    <tr>\n",
              "      <th>2023-03-22 00:00:00-04:00</th>\n",
              "      <td>4002.040039</td>\n",
              "      <td>4039.489990</td>\n",
              "      <td>3936.169922</td>\n",
              "      <td>3936.969971</td>\n",
              "      <td>4533010000</td>\n",
              "      <td>3948.719971</td>\n",
              "      <td>1</td>\n",
              "      <td>0.991700</td>\n",
              "      <td>1.0</td>\n",
              "      <td>0.995777</td>\n",
              "      <td>3.0</td>\n",
              "      <td>0.987974</td>\n",
              "      <td>29.0</td>\n",
              "      <td>0.984913</td>\n",
              "      <td>112.0</td>\n",
              "      <td>1.063432</td>\n",
              "      <td>534.0</td>\n",
              "    </tr>\n",
              "    <tr>\n",
              "      <th>2023-03-23 00:00:00-04:00</th>\n",
              "      <td>3959.209961</td>\n",
              "      <td>4007.659912</td>\n",
              "      <td>3919.050049</td>\n",
              "      <td>3948.719971</td>\n",
              "      <td>4991600000</td>\n",
              "      <td>3970.989990</td>\n",
              "      <td>1</td>\n",
              "      <td>1.001490</td>\n",
              "      <td>1.0</td>\n",
              "      <td>0.999333</td>\n",
              "      <td>3.0</td>\n",
              "      <td>0.990492</td>\n",
              "      <td>29.0</td>\n",
              "      <td>0.988418</td>\n",
              "      <td>112.0</td>\n",
              "      <td>1.066296</td>\n",
              "      <td>534.0</td>\n",
              "    </tr>\n",
              "    <tr>\n",
              "      <th>2023-03-24 00:00:00-04:00</th>\n",
              "      <td>3939.209961</td>\n",
              "      <td>3972.739990</td>\n",
              "      <td>3909.159912</td>\n",
              "      <td>3970.989990</td>\n",
              "      <td>4583970000</td>\n",
              "      <td>3977.530029</td>\n",
              "      <td>1</td>\n",
              "      <td>1.002812</td>\n",
              "      <td>2.0</td>\n",
              "      <td>1.002212</td>\n",
              "      <td>4.0</td>\n",
              "      <td>0.995488</td>\n",
              "      <td>30.0</td>\n",
              "      <td>0.994562</td>\n",
              "      <td>112.0</td>\n",
              "      <td>1.071994</td>\n",
              "      <td>534.0</td>\n",
              "    </tr>\n",
              "    <tr>\n",
              "      <th>2023-03-27 00:00:00-04:00</th>\n",
              "      <td>3982.929932</td>\n",
              "      <td>4003.830078</td>\n",
              "      <td>3970.489990</td>\n",
              "      <td>3977.530029</td>\n",
              "      <td>4233540000</td>\n",
              "      <td>3971.270020</td>\n",
              "      <td>0</td>\n",
              "      <td>1.000823</td>\n",
              "      <td>2.0</td>\n",
              "      <td>1.002549</td>\n",
              "      <td>4.0</td>\n",
              "      <td>0.996319</td>\n",
              "      <td>31.0</td>\n",
              "      <td>0.996797</td>\n",
              "      <td>112.0</td>\n",
              "      <td>1.073445</td>\n",
              "      <td>534.0</td>\n",
              "    </tr>\n",
              "  </tbody>\n",
              "</table>\n",
              "<p>7373 rows × 17 columns</p>\n",
              "</div>\n",
              "      <button class=\"colab-df-convert\" onclick=\"convertToInteractive('df-ae2200c4-b72c-480c-8196-4485261e2b97')\"\n",
              "              title=\"Convert this dataframe to an interactive table.\"\n",
              "              style=\"display:none;\">\n",
              "        \n",
              "  <svg xmlns=\"http://www.w3.org/2000/svg\" height=\"24px\"viewBox=\"0 0 24 24\"\n",
              "       width=\"24px\">\n",
              "    <path d=\"M0 0h24v24H0V0z\" fill=\"none\"/>\n",
              "    <path d=\"M18.56 5.44l.94 2.06.94-2.06 2.06-.94-2.06-.94-.94-2.06-.94 2.06-2.06.94zm-11 1L8.5 8.5l.94-2.06 2.06-.94-2.06-.94L8.5 2.5l-.94 2.06-2.06.94zm10 10l.94 2.06.94-2.06 2.06-.94-2.06-.94-.94-2.06-.94 2.06-2.06.94z\"/><path d=\"M17.41 7.96l-1.37-1.37c-.4-.4-.92-.59-1.43-.59-.52 0-1.04.2-1.43.59L10.3 9.45l-7.72 7.72c-.78.78-.78 2.05 0 2.83L4 21.41c.39.39.9.59 1.41.59.51 0 1.02-.2 1.41-.59l7.78-7.78 2.81-2.81c.8-.78.8-2.07 0-2.86zM5.41 20L4 18.59l7.72-7.72 1.47 1.35L5.41 20z\"/>\n",
              "  </svg>\n",
              "      </button>\n",
              "      \n",
              "  <style>\n",
              "    .colab-df-container {\n",
              "      display:flex;\n",
              "      flex-wrap:wrap;\n",
              "      gap: 12px;\n",
              "    }\n",
              "\n",
              "    .colab-df-convert {\n",
              "      background-color: #E8F0FE;\n",
              "      border: none;\n",
              "      border-radius: 50%;\n",
              "      cursor: pointer;\n",
              "      display: none;\n",
              "      fill: #1967D2;\n",
              "      height: 32px;\n",
              "      padding: 0 0 0 0;\n",
              "      width: 32px;\n",
              "    }\n",
              "\n",
              "    .colab-df-convert:hover {\n",
              "      background-color: #E2EBFA;\n",
              "      box-shadow: 0px 1px 2px rgba(60, 64, 67, 0.3), 0px 1px 3px 1px rgba(60, 64, 67, 0.15);\n",
              "      fill: #174EA6;\n",
              "    }\n",
              "\n",
              "    [theme=dark] .colab-df-convert {\n",
              "      background-color: #3B4455;\n",
              "      fill: #D2E3FC;\n",
              "    }\n",
              "\n",
              "    [theme=dark] .colab-df-convert:hover {\n",
              "      background-color: #434B5C;\n",
              "      box-shadow: 0px 1px 3px 1px rgba(0, 0, 0, 0.15);\n",
              "      filter: drop-shadow(0px 1px 2px rgba(0, 0, 0, 0.3));\n",
              "      fill: #FFFFFF;\n",
              "    }\n",
              "  </style>\n",
              "\n",
              "      <script>\n",
              "        const buttonEl =\n",
              "          document.querySelector('#df-ae2200c4-b72c-480c-8196-4485261e2b97 button.colab-df-convert');\n",
              "        buttonEl.style.display =\n",
              "          google.colab.kernel.accessAllowed ? 'block' : 'none';\n",
              "\n",
              "        async function convertToInteractive(key) {\n",
              "          const element = document.querySelector('#df-ae2200c4-b72c-480c-8196-4485261e2b97');\n",
              "          const dataTable =\n",
              "            await google.colab.kernel.invokeFunction('convertToInteractive',\n",
              "                                                     [key], {});\n",
              "          if (!dataTable) return;\n",
              "\n",
              "          const docLinkHtml = 'Like what you see? Visit the ' +\n",
              "            '<a target=\"_blank\" href=https://colab.research.google.com/notebooks/data_table.ipynb>data table notebook</a>'\n",
              "            + ' to learn more about interactive tables.';\n",
              "          element.innerHTML = '';\n",
              "          dataTable['output_type'] = 'display_data';\n",
              "          await google.colab.output.renderOutput(dataTable, element);\n",
              "          const docLink = document.createElement('div');\n",
              "          docLink.innerHTML = docLinkHtml;\n",
              "          element.appendChild(docLink);\n",
              "        }\n",
              "      </script>\n",
              "    </div>\n",
              "  </div>\n",
              "  "
            ]
          },
          "metadata": {},
          "execution_count": 45
        }
      ]
    },
    {
      "cell_type": "code",
      "source": [
        "model= RandomForestClassifier(n_estimators= 200, min_samples_split= 50, random_state=1)"
      ],
      "metadata": {
        "id": "5QIVDzS8LO9q"
      },
      "execution_count": null,
      "outputs": []
    },
    {
      "cell_type": "code",
      "source": [
        "def predict(train, test,predictors,model):\n",
        "  model.fit(train[predictors], train[\"Target\"])\n",
        "  preds= model.predict_proba(test[predictors])[:,1]\n",
        "  preds[preds>= 0.6]= 1\n",
        "  preds[preds < 0.6]= 0\n",
        "  preds= pd.Series(preds, index= test.index, name=\"Predictions\")\n",
        "  combined= pd.concat([test[\"Target\"], preds], axis=1)\n",
        "  return combined"
      ],
      "metadata": {
        "id": "aDIOguNEMHkO"
      },
      "execution_count": null,
      "outputs": []
    },
    {
      "cell_type": "code",
      "source": [
        "predictions= backtest(sp500, model, new_predictors)"
      ],
      "metadata": {
        "id": "hwn8GoRiPEfH"
      },
      "execution_count": null,
      "outputs": []
    },
    {
      "cell_type": "code",
      "source": [
        "precision_score(predictions[\"Target\"], predictions[\"Predictions\"])"
      ],
      "metadata": {
        "colab": {
          "base_uri": "https://localhost:8080/"
        },
        "id": "SebYyCf6PbQT",
        "outputId": "0bbf91d8-a877-44c2-a878-155317389adf"
      },
      "execution_count": null,
      "outputs": [
        {
          "output_type": "execute_result",
          "data": {
            "text/plain": [
              "0.5694956949569495"
            ]
          },
          "metadata": {},
          "execution_count": 49
        }
      ]
    },
    {
      "cell_type": "code",
      "source": [],
      "metadata": {
        "id": "MDYs71vWRzOi"
      },
      "execution_count": null,
      "outputs": []
    }
  ]
}